{
  "nbformat": 4,
  "nbformat_minor": 0,
  "metadata": {
    "colab": {
      "provenance": [],
      "collapsed_sections": [],
      "authorship_tag": "ABX9TyOTKLrhjSqqnOCSyre/20Di"
    },
    "kernelspec": {
      "name": "python3",
      "display_name": "Python 3"
    },
    "language_info": {
      "name": "python"
    },
    "accelerator": "GPU",
    "gpuClass": "standard"
  },
  "cells": [
    {
      "cell_type": "markdown",
      "source": [
        "**SynaNN Regression by JAX for Machine Learning**\n",
        "\n",
        "**Introduction**\n",
        "\n",
        "Bhaskara formula is an elegant and accurate rational sine approximation. In this program we are going to introduce Reversible Synaptic NeuralNetwork (SynaNN) that can represent the sin(pi*x) approximation in the (0,1) interval. Furthermore, we are going to apply the Machine Learning with grident descent to do SynaNN regression. The program is implemented by JAX framework of Python. \n",
        "It has been shown that how the Bhaskara formula is accuracy for practical applications.  "
      ],
      "metadata": {
        "id": "3WoSLO1WygqP"
      }
    },
    {
      "cell_type": "markdown",
      "source": [
        "Given x ∈ [0, 1], Bhaskara sin(πx) approximation is a rational function,\n",
        "\n",
        ">> sin(πx) = 4 ∗4/5*x*(1 − x)/(1 − 4/5*x*(1 − x))"
      ],
      "metadata": {
        "id": "lkQG0OQgv6ac"
      }
    },
    {
      "cell_type": "code",
      "execution_count": 11,
      "metadata": {
        "id": "Nm-gBQO7yQjg"
      },
      "outputs": [],
      "source": [
        "import jax\n",
        "import jax.numpy as jnp\n",
        "from jax import grad, jit, vmap, random\n",
        "import numpy as np\n",
        "import math\n",
        "import matplotlib.pyplot as plt"
      ]
    },
    {
      "cell_type": "markdown",
      "source": [
        "**Reversible SynaNN Library**\n",
        "\n",
        "A reversible computing means that the computational process of a model is reversible. Since per irreversible bit operation will generate energy dissipation or heat, reversible units can remove the dissipation so it has the highest energy efficiency. The universal reversible computing is good for low-power consumption.\n",
        "\n",
        "Given two variables x, y and two parameters α, β, the synapse function S(x, y; α, β) is defined as:\n",
        "\n",
        ">> S(x, y; α, β) = αx(1 − βy)\n",
        "\n",
        "\n",
        "where x and y are real variables and x, y ∈ [0, 1]; α ≥ 0 and β ≥ 0 are real parameters. Synaptic Neural Network (SynaNN) is the connection of synapses and neurons.\n",
        "\n",
        "A Reversible Synaptic Neural Network is a special connectionof SynaNN. It consists of two input variables, four parameters, and two outputs called S1 and S2, which is defined as\n",
        "\n",
        ">> S1(x, y; α1, β1) = S(x, y; α1, β1)\n",
        "\n",
        ">> S2(x, y; α2, β2) = S(y, S1(x, y, α1, β1); α2, β2) \n",
        "\n",
        "where S1 is the positive output and S2 is the negative output.\n"
      ],
      "metadata": {
        "id": "TK9R-1sx2g2M"
      }
    },
    {
      "cell_type": "code",
      "source": [
        "# jit specifies Just-in-time compilation function\n",
        "# syna \n",
        "@jit\n",
        "def syna(x,y,a,b):\n",
        "  return a*x*(1-b*y)\n",
        "\n",
        "# forward syna\n",
        "@jit\n",
        "def _syna(x1, x2, W):\n",
        "  s1 = x1*syna(1, x2, W[0], W[1])\n",
        "  s2 = x2*syna(1, s1, W[2], W[3])\n",
        "  return s1,s2\n",
        "\n",
        "# backward syna\n",
        "@jit\n",
        "def syna_(s1, s2, W):\n",
        "  x2 = s2/syna(1, s1, W[2], W[3])\n",
        "  x1 = s1/syna(1, x2, W[0], W[1])\n",
        "  return (x1, x2)\n",
        "\n",
        "# ML sin(pi*x) approximation formula in (0,1)\n",
        "@jit\n",
        "def sin_ml(x, W):\n",
        "  s1 = x*syna(1, x, W[0], W[1])\n",
        "  s2 = x*syna(1, s1, W[2], W[3])\n",
        "  s = s1/s2*4.0*x\n",
        "  return s"
      ],
      "metadata": {
        "id": "NKYbysJTyzPW"
      },
      "execution_count": 12,
      "outputs": []
    },
    {
      "cell_type": "markdown",
      "source": [
        "**Machine Learning Functions**\n",
        "\n",
        "predict, loss, and update functions implement the regression through machine learning framework JAX. \n",
        "\n",
        "1.   predict is the model of the neural network.\n",
        "2.   loss is the minimum function of comparsion.\n",
        "3.   update is the procesdure to modify the parameters by gradient descent through grad function in JAX."
      ],
      "metadata": {
        "id": "BQwZ2xltj68X"
      }
    },
    {
      "cell_type": "code",
      "source": [
        "def predict(theta, x):\n",
        "  return sin_ml(x, theta)\n",
        "\n",
        "def loss(theta, x, y):\n",
        "  return jnp.mean((predict(theta,x)-y)**2)\n",
        "\n",
        "def update(theta, x, y, lr=0.1):\n",
        "  return theta-lr*grad(loss)(theta, x, y)\n"
      ],
      "metadata": {
        "id": "-KbkGEyCzBAG"
      },
      "execution_count": 13,
      "outputs": []
    },
    {
      "cell_type": "markdown",
      "source": [
        "**Draw Curves**\n",
        "\n",
        "Draw sin(pi*x) in [0.0+e, 1.0-e]\n",
        "\n",
        "The params of the Bhaskara formula are theta=[4./5., 1.0, 1.0, 1.0]. We see that the approximate curve is crossing and linking the centers of the sin(pi*x) sample points. An interesting behavior is that if the initial params are setting as Bhaskara formula, then the Machie Learning returns the same values as the initial params. \n",
        "By adding noise to the sine function, we can do regression with the reversible synapse neural network."
      ],
      "metadata": {
        "id": "zjVwMLAn0izg"
      }
    },
    {
      "cell_type": "code",
      "source": [
        "interval=50\n",
        "noise = np.random.normal(scale=0.1, size=(interval,))\n",
        "epsilon=1e-10 \n",
        "xs = jnp.linspace(0.+epsilon, 1.-epsilon, interval)\n",
        "ys = jnp.sin(math.pi*xs)\n",
        "plt.scatter(xs, ys, color='red')\n",
        "plt.scatter(xs, ys+noise, color='orange')\n",
        "\n",
        "# draw syna regression with params\n",
        "theta = jnp.array([0.8, 1.0, 1.0, 1.0])\n",
        "for _ in range(1000):\n",
        "  theta = update(theta, xs, ys)\n",
        "\n",
        "plt.title(\"Reversible SynaNN for Sin(pi*x)\")\n",
        "plt.plot(xs, predict(theta, xs))\n",
        "\n",
        "print(theta)"
      ],
      "metadata": {
        "colab": {
          "base_uri": "https://localhost:8080/",
          "height": 298
        },
        "id": "VtRcXF5LzEvG",
        "outputId": "e4e5d4fd-2e5a-4e47-be05-6d7c03228e20"
      },
      "execution_count": 14,
      "outputs": [
        {
          "output_type": "stream",
          "name": "stdout",
          "text": [
            "[0.8006282 1.000205  1.000112  1.0006301]\n"
          ]
        },
        {
          "output_type": "display_data",
          "data": {
            "text/plain": [
              "<Figure size 432x288 with 1 Axes>"
            ],
            "image/png": "[encoded data removed]"
          },
          "metadata": {
            "needs_background": "light"
          }
        }
      ]
    },
    {
      "cell_type": "markdown",
      "source": [
        "**Summary**\n",
        "\n",
        "We see how simple to implement the SynaNN regression by JAX with Machine Learning. This example is a pattern to apply AI/ML on various applictions such as IoT and sensors. Synapse Neural Network (SynaNN) is simply and widely working on various physical and experimental formula. "
      ],
      "metadata": {
        "id": "-TtOAfgGrZ3Z"
      }
    },
    {
      "cell_type": "markdown",
      "source": [
        "**References**\n",
        "\n",
        "(PDF) Reversible Synaptic Neural Network (SynaNN) from Bhaskara Sine Approximation to Random Matrix and Zeta Function. Chang Li (2017)\n",
        "\n",
        "Available from: https://www.researchgate.net/publication/326464136_Reversible_Synaptic_Neural_Network_SynaNN_from_Bhaskara_Sine_Approximation_to_Random_Matrix_and_Zeta_Function"
      ],
      "metadata": {
        "id": "zWy8qvbRyd2N"
      }
    }
  ]
}